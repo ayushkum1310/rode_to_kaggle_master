{
 "cells": [
  {
   "cell_type": "code",
   "execution_count": 1,
   "id": "065fab54",
   "metadata": {},
   "outputs": [],
   "source": [
    "import pandas as pd\n",
    "import numpy as np\n",
    "import matplotlib.pyplot as plt\n",
    "import seaborn as sns"
   ]
  },
  {
   "cell_type": "code",
   "execution_count": 2,
   "id": "afa75c92",
   "metadata": {},
   "outputs": [],
   "source": [
    "X_train_data=pd.read_csv(\"train.csv\",index_col=[0])\n",
    "X_test_data=pd.read_csv(\"test.csv\",index_col=[0])"
   ]
  },
  {
   "cell_type": "code",
   "execution_count": null,
   "id": "da11891b",
   "metadata": {},
   "outputs": [],
   "source": []
  },
  {
   "cell_type": "code",
   "execution_count": 3,
   "id": "242efde6",
   "metadata": {},
   "outputs": [],
   "source": [
    "from sklearn.preprocessing import LabelEncoder\n",
    "lr=LabelEncoder()\n",
    "\n",
    "X_train_data[\"Transported\"]=lr.fit_transform(X_train_data[\"Transported\"])\n",
    "\n"
   ]
  },
  {
   "cell_type": "code",
   "execution_count": 4,
   "id": "ce1dbd9e",
   "metadata": {},
   "outputs": [],
   "source": [
    "y=X_train_data[\"Transported\"]"
   ]
  },
  {
   "cell_type": "code",
   "execution_count": 5,
   "id": "52171093",
   "metadata": {},
   "outputs": [],
   "source": [
    "X_train_data.drop([\"Transported\",\"Name\"],axis=1,inplace=True)\n"
   ]
  },
  {
   "cell_type": "code",
   "execution_count": 6,
   "id": "82ed959a",
   "metadata": {},
   "outputs": [],
   "source": [
    "X_test_data.drop([\"Name\"],axis=1,inplace=True)\n"
   ]
  },
  {
   "cell_type": "code",
   "execution_count": 7,
   "id": "edb674bb",
   "metadata": {},
   "outputs": [],
   "source": [
    "X_train=X_train_data\n",
    "X_test=X_test_data"
   ]
  },
  {
   "cell_type": "code",
   "execution_count": 8,
   "id": "b1f38a90",
   "metadata": {},
   "outputs": [
    {
     "data": {
      "text/html": [
       "<div>\n",
       "<style scoped>\n",
       "    .dataframe tbody tr th:only-of-type {\n",
       "        vertical-align: middle;\n",
       "    }\n",
       "\n",
       "    .dataframe tbody tr th {\n",
       "        vertical-align: top;\n",
       "    }\n",
       "\n",
       "    .dataframe thead th {\n",
       "        text-align: right;\n",
       "    }\n",
       "</style>\n",
       "<table border=\"1\" class=\"dataframe\">\n",
       "  <thead>\n",
       "    <tr style=\"text-align: right;\">\n",
       "      <th></th>\n",
       "      <th>HomePlanet</th>\n",
       "      <th>CryoSleep</th>\n",
       "      <th>Cabin</th>\n",
       "      <th>Destination</th>\n",
       "      <th>Age</th>\n",
       "      <th>VIP</th>\n",
       "      <th>RoomService</th>\n",
       "      <th>FoodCourt</th>\n",
       "      <th>ShoppingMall</th>\n",
       "      <th>Spa</th>\n",
       "      <th>VRDeck</th>\n",
       "    </tr>\n",
       "    <tr>\n",
       "      <th>PassengerId</th>\n",
       "      <th></th>\n",
       "      <th></th>\n",
       "      <th></th>\n",
       "      <th></th>\n",
       "      <th></th>\n",
       "      <th></th>\n",
       "      <th></th>\n",
       "      <th></th>\n",
       "      <th></th>\n",
       "      <th></th>\n",
       "      <th></th>\n",
       "    </tr>\n",
       "  </thead>\n",
       "  <tbody>\n",
       "    <tr>\n",
       "      <th>0013_01</th>\n",
       "      <td>Earth</td>\n",
       "      <td>True</td>\n",
       "      <td>G/3/S</td>\n",
       "      <td>TRAPPIST-1e</td>\n",
       "      <td>27.0</td>\n",
       "      <td>False</td>\n",
       "      <td>0.0</td>\n",
       "      <td>0.0</td>\n",
       "      <td>0.0</td>\n",
       "      <td>0.0</td>\n",
       "      <td>0.0</td>\n",
       "    </tr>\n",
       "    <tr>\n",
       "      <th>0018_01</th>\n",
       "      <td>Earth</td>\n",
       "      <td>False</td>\n",
       "      <td>F/4/S</td>\n",
       "      <td>TRAPPIST-1e</td>\n",
       "      <td>19.0</td>\n",
       "      <td>False</td>\n",
       "      <td>0.0</td>\n",
       "      <td>9.0</td>\n",
       "      <td>0.0</td>\n",
       "      <td>2823.0</td>\n",
       "      <td>0.0</td>\n",
       "    </tr>\n",
       "    <tr>\n",
       "      <th>0019_01</th>\n",
       "      <td>Europa</td>\n",
       "      <td>True</td>\n",
       "      <td>C/0/S</td>\n",
       "      <td>55 Cancri e</td>\n",
       "      <td>31.0</td>\n",
       "      <td>False</td>\n",
       "      <td>0.0</td>\n",
       "      <td>0.0</td>\n",
       "      <td>0.0</td>\n",
       "      <td>0.0</td>\n",
       "      <td>0.0</td>\n",
       "    </tr>\n",
       "  </tbody>\n",
       "</table>\n",
       "</div>"
      ],
      "text/plain": [
       "            HomePlanet CryoSleep  Cabin  Destination   Age    VIP  \\\n",
       "PassengerId                                                         \n",
       "0013_01          Earth      True  G/3/S  TRAPPIST-1e  27.0  False   \n",
       "0018_01          Earth     False  F/4/S  TRAPPIST-1e  19.0  False   \n",
       "0019_01         Europa      True  C/0/S  55 Cancri e  31.0  False   \n",
       "\n",
       "             RoomService  FoodCourt  ShoppingMall     Spa  VRDeck  \n",
       "PassengerId                                                        \n",
       "0013_01              0.0        0.0           0.0     0.0     0.0  \n",
       "0018_01              0.0        9.0           0.0  2823.0     0.0  \n",
       "0019_01              0.0        0.0           0.0     0.0     0.0  "
      ]
     },
     "execution_count": 8,
     "metadata": {},
     "output_type": "execute_result"
    }
   ],
   "source": [
    "X_test.head(3)"
   ]
  },
  {
   "cell_type": "code",
   "execution_count": 9,
   "id": "fdfe6538",
   "metadata": {},
   "outputs": [
    {
     "data": {
      "text/html": [
       "<div>\n",
       "<style scoped>\n",
       "    .dataframe tbody tr th:only-of-type {\n",
       "        vertical-align: middle;\n",
       "    }\n",
       "\n",
       "    .dataframe tbody tr th {\n",
       "        vertical-align: top;\n",
       "    }\n",
       "\n",
       "    .dataframe thead th {\n",
       "        text-align: right;\n",
       "    }\n",
       "</style>\n",
       "<table border=\"1\" class=\"dataframe\">\n",
       "  <thead>\n",
       "    <tr style=\"text-align: right;\">\n",
       "      <th></th>\n",
       "      <th>HomePlanet</th>\n",
       "      <th>CryoSleep</th>\n",
       "      <th>Cabin</th>\n",
       "      <th>Destination</th>\n",
       "      <th>Age</th>\n",
       "      <th>VIP</th>\n",
       "      <th>RoomService</th>\n",
       "      <th>FoodCourt</th>\n",
       "      <th>ShoppingMall</th>\n",
       "      <th>Spa</th>\n",
       "      <th>VRDeck</th>\n",
       "    </tr>\n",
       "    <tr>\n",
       "      <th>PassengerId</th>\n",
       "      <th></th>\n",
       "      <th></th>\n",
       "      <th></th>\n",
       "      <th></th>\n",
       "      <th></th>\n",
       "      <th></th>\n",
       "      <th></th>\n",
       "      <th></th>\n",
       "      <th></th>\n",
       "      <th></th>\n",
       "      <th></th>\n",
       "    </tr>\n",
       "  </thead>\n",
       "  <tbody>\n",
       "    <tr>\n",
       "      <th>0001_01</th>\n",
       "      <td>Europa</td>\n",
       "      <td>False</td>\n",
       "      <td>B/0/P</td>\n",
       "      <td>TRAPPIST-1e</td>\n",
       "      <td>39.0</td>\n",
       "      <td>False</td>\n",
       "      <td>0.0</td>\n",
       "      <td>0.0</td>\n",
       "      <td>0.0</td>\n",
       "      <td>0.0</td>\n",
       "      <td>0.0</td>\n",
       "    </tr>\n",
       "    <tr>\n",
       "      <th>0002_01</th>\n",
       "      <td>Earth</td>\n",
       "      <td>False</td>\n",
       "      <td>F/0/S</td>\n",
       "      <td>TRAPPIST-1e</td>\n",
       "      <td>24.0</td>\n",
       "      <td>False</td>\n",
       "      <td>109.0</td>\n",
       "      <td>9.0</td>\n",
       "      <td>25.0</td>\n",
       "      <td>549.0</td>\n",
       "      <td>44.0</td>\n",
       "    </tr>\n",
       "    <tr>\n",
       "      <th>0003_01</th>\n",
       "      <td>Europa</td>\n",
       "      <td>False</td>\n",
       "      <td>A/0/S</td>\n",
       "      <td>TRAPPIST-1e</td>\n",
       "      <td>58.0</td>\n",
       "      <td>True</td>\n",
       "      <td>43.0</td>\n",
       "      <td>3576.0</td>\n",
       "      <td>0.0</td>\n",
       "      <td>6715.0</td>\n",
       "      <td>49.0</td>\n",
       "    </tr>\n",
       "  </tbody>\n",
       "</table>\n",
       "</div>"
      ],
      "text/plain": [
       "            HomePlanet CryoSleep  Cabin  Destination   Age    VIP  \\\n",
       "PassengerId                                                         \n",
       "0001_01         Europa     False  B/0/P  TRAPPIST-1e  39.0  False   \n",
       "0002_01          Earth     False  F/0/S  TRAPPIST-1e  24.0  False   \n",
       "0003_01         Europa     False  A/0/S  TRAPPIST-1e  58.0   True   \n",
       "\n",
       "             RoomService  FoodCourt  ShoppingMall     Spa  VRDeck  \n",
       "PassengerId                                                        \n",
       "0001_01              0.0        0.0           0.0     0.0     0.0  \n",
       "0002_01            109.0        9.0          25.0   549.0    44.0  \n",
       "0003_01             43.0     3576.0           0.0  6715.0    49.0  "
      ]
     },
     "execution_count": 9,
     "metadata": {},
     "output_type": "execute_result"
    }
   ],
   "source": [
    "X_train.head(3)"
   ]
  },
  {
   "cell_type": "markdown",
   "id": "26769fa8",
   "metadata": {},
   "source": [
    "# Handelling missing values"
   ]
  },
  {
   "cell_type": "code",
   "execution_count": 10,
   "id": "3456f28b",
   "metadata": {},
   "outputs": [
    {
     "data": {
      "text/plain": [
       "HomePlanet      201\n",
       "CryoSleep       217\n",
       "Cabin           199\n",
       "Destination     182\n",
       "Age             179\n",
       "VIP             203\n",
       "RoomService     181\n",
       "FoodCourt       183\n",
       "ShoppingMall    208\n",
       "Spa             183\n",
       "VRDeck          188\n",
       "dtype: int64"
      ]
     },
     "execution_count": 10,
     "metadata": {},
     "output_type": "execute_result"
    }
   ],
   "source": [
    "X_train.isnull().sum()"
   ]
  },
  {
   "cell_type": "code",
   "execution_count": 11,
   "id": "8e1efef0",
   "metadata": {},
   "outputs": [
    {
     "name": "stdout",
     "output_type": "stream",
     "text": [
      "<class 'pandas.core.frame.DataFrame'>\n",
      "Index: 8693 entries, 0001_01 to 9280_02\n",
      "Data columns (total 11 columns):\n",
      " #   Column        Non-Null Count  Dtype  \n",
      "---  ------        --------------  -----  \n",
      " 0   HomePlanet    8492 non-null   object \n",
      " 1   CryoSleep     8476 non-null   object \n",
      " 2   Cabin         8494 non-null   object \n",
      " 3   Destination   8511 non-null   object \n",
      " 4   Age           8514 non-null   float64\n",
      " 5   VIP           8490 non-null   object \n",
      " 6   RoomService   8512 non-null   float64\n",
      " 7   FoodCourt     8510 non-null   float64\n",
      " 8   ShoppingMall  8485 non-null   float64\n",
      " 9   Spa           8510 non-null   float64\n",
      " 10  VRDeck        8505 non-null   float64\n",
      "dtypes: float64(6), object(5)\n",
      "memory usage: 815.0+ KB\n"
     ]
    }
   ],
   "source": [
    "X_train.info()"
   ]
  },
  {
   "cell_type": "code",
   "execution_count": 12,
   "id": "1689f716",
   "metadata": {},
   "outputs": [],
   "source": [
    "X_train[\"Age\"]=X_train[\"Age\"].fillna(value=X_train[\"Age\"].mean())"
   ]
  },
  {
   "cell_type": "code",
   "execution_count": 13,
   "id": "d9b1f967",
   "metadata": {},
   "outputs": [],
   "source": [
    "X_test[\"Age\"]=X_test[\"Age\"].fillna(value=X_test[\"Age\"].mean())"
   ]
  },
  {
   "cell_type": "code",
   "execution_count": 14,
   "id": "be4737a3",
   "metadata": {},
   "outputs": [],
   "source": [
    "flot_miss=[\"RoomService\",\"FoodCourt\",\"ShoppingMall\",\"Spa\",\"VRDeck\"]\n",
    "    \n",
    "    "
   ]
  },
  {
   "cell_type": "code",
   "execution_count": 15,
   "id": "40ab6774",
   "metadata": {},
   "outputs": [
    {
     "name": "stdout",
     "output_type": "stream",
     "text": [
      "181\n",
      "183\n",
      "208\n",
      "183\n",
      "188\n"
     ]
    }
   ],
   "source": [
    "for i in flot_miss:\n",
    "    print(X_train[i].isna().sum())"
   ]
  },
  {
   "cell_type": "code",
   "execution_count": 16,
   "id": "49f9ffd3",
   "metadata": {},
   "outputs": [],
   "source": [
    "for i in flot_miss:\n",
    "    X_train[i]=X_train[i].fillna(value=X_train[i].mean())"
   ]
  },
  {
   "cell_type": "code",
   "execution_count": 17,
   "id": "be5646f0",
   "metadata": {},
   "outputs": [],
   "source": [
    "for i in flot_miss:\n",
    "    X_test[i]=X_test[i].fillna(value=X_test[i].mean())"
   ]
  },
  {
   "cell_type": "code",
   "execution_count": null,
   "id": "fb5bf6ee",
   "metadata": {},
   "outputs": [],
   "source": [
    "\n"
   ]
  },
  {
   "cell_type": "code",
   "execution_count": 18,
   "id": "ff352c04",
   "metadata": {},
   "outputs": [],
   "source": [
    "X_train.isnull().sum()\n",
    "obj=[\"HomePlanet\",\"CryoSleep\",\"Cabin\",\"Destination\",\"VIP\"]"
   ]
  },
  {
   "cell_type": "code",
   "execution_count": 19,
   "id": "8d6f11ff",
   "metadata": {},
   "outputs": [
    {
     "name": "stdout",
     "output_type": "stream",
     "text": [
      "0    Earth\n",
      "Name: HomePlanet, dtype: object\n",
      "0    False\n",
      "Name: CryoSleep, dtype: object\n",
      "0    G/734/S\n",
      "Name: Cabin, dtype: object\n",
      "0    TRAPPIST-1e\n",
      "Name: Destination, dtype: object\n",
      "0    False\n",
      "Name: VIP, dtype: object\n"
     ]
    }
   ],
   "source": [
    "for i in obj:\n",
    "    print(X_train[i].mode())"
   ]
  },
  {
   "cell_type": "code",
   "execution_count": 20,
   "id": "315b958d",
   "metadata": {},
   "outputs": [],
   "source": [
    "X_train[\"HomePlanet\"]=X_train[\"HomePlanet\"].fillna(value=\"Earth\")\n",
    "X_train[\"CryoSleep\"]=X_train[\"CryoSleep\"].fillna(value=False)\n",
    "X_train[\"Cabin\"]=X_train[\"Cabin\"].fillna(value=\"G/734/S\")\n",
    "X_train[\"Destination\"]=X_train[\"Destination\"].fillna(value=\"TRAPPIST-1e\")\n",
    "X_train[\"VIP\"]=X_train[\"VIP\"].fillna(value=False)"
   ]
  },
  {
   "cell_type": "code",
   "execution_count": 21,
   "id": "947f972b",
   "metadata": {},
   "outputs": [
    {
     "name": "stdout",
     "output_type": "stream",
     "text": [
      "0    Earth\n",
      "Name: HomePlanet, dtype: object\n",
      "0    False\n",
      "Name: CryoSleep, dtype: object\n",
      "0    G/160/P\n",
      "Name: Cabin, dtype: object\n",
      "0    TRAPPIST-1e\n",
      "Name: Destination, dtype: object\n",
      "0    False\n",
      "Name: VIP, dtype: object\n"
     ]
    }
   ],
   "source": [
    "for i in obj:\n",
    "    print(X_test[i].mode())"
   ]
  },
  {
   "cell_type": "code",
   "execution_count": 22,
   "id": "696fb281",
   "metadata": {},
   "outputs": [],
   "source": [
    "X_test[\"HomePlanet\"]=X_test[\"HomePlanet\"].fillna(value=\"Earth\")\n",
    "X_test[\"CryoSleep\"]=X_test[\"CryoSleep\"].fillna(value=False)\n",
    "X_test[\"Cabin\"]=X_test[\"Cabin\"].fillna(value=\"G/160/P\")\n",
    "X_test[\"Destination\"]=X_test[\"Destination\"].fillna(value=\"TRAPPIST-1e\")\n",
    "X_test[\"VIP\"]=X_test[\"VIP\"].fillna(value=False)"
   ]
  },
  {
   "cell_type": "code",
   "execution_count": 23,
   "id": "916fbf6b",
   "metadata": {},
   "outputs": [
    {
     "data": {
      "text/plain": [
       "HomePlanet      0\n",
       "CryoSleep       0\n",
       "Cabin           0\n",
       "Destination     0\n",
       "Age             0\n",
       "VIP             0\n",
       "RoomService     0\n",
       "FoodCourt       0\n",
       "ShoppingMall    0\n",
       "Spa             0\n",
       "VRDeck          0\n",
       "dtype: int64"
      ]
     },
     "execution_count": 23,
     "metadata": {},
     "output_type": "execute_result"
    }
   ],
   "source": [
    "X_test.isnull().sum()"
   ]
  },
  {
   "cell_type": "markdown",
   "id": "bb8d07dc",
   "metadata": {},
   "source": [
    "# Now we will change the data into an catagorical format which we can feed in an ml model\n"
   ]
  },
  {
   "cell_type": "code",
   "execution_count": 24,
   "id": "60d87477",
   "metadata": {},
   "outputs": [],
   "source": [
    "from sklearn.preprocessing import LabelEncoder\n",
    "Lr=LabelEncoder()\n"
   ]
  },
  {
   "cell_type": "code",
   "execution_count": 28,
   "id": "16562627",
   "metadata": {},
   "outputs": [],
   "source": [
    "for i in X_train.columns:\n",
    "    X_train[i]=Lr.fit_transform(X_train[i])"
   ]
  },
  {
   "cell_type": "code",
   "execution_count": 30,
   "id": "8640073b",
   "metadata": {},
   "outputs": [],
   "source": [
    "for i in X_test.columns:\n",
    "    X_test[i]=Lr.fit_transform(X_test[i])"
   ]
  },
  {
   "cell_type": "code",
   "execution_count": 32,
   "id": "22d9cede",
   "metadata": {},
   "outputs": [
    {
     "data": {
      "text/html": [
       "<div>\n",
       "<style scoped>\n",
       "    .dataframe tbody tr th:only-of-type {\n",
       "        vertical-align: middle;\n",
       "    }\n",
       "\n",
       "    .dataframe tbody tr th {\n",
       "        vertical-align: top;\n",
       "    }\n",
       "\n",
       "    .dataframe thead th {\n",
       "        text-align: right;\n",
       "    }\n",
       "</style>\n",
       "<table border=\"1\" class=\"dataframe\">\n",
       "  <thead>\n",
       "    <tr style=\"text-align: right;\">\n",
       "      <th></th>\n",
       "      <th>HomePlanet</th>\n",
       "      <th>CryoSleep</th>\n",
       "      <th>Cabin</th>\n",
       "      <th>Destination</th>\n",
       "      <th>Age</th>\n",
       "      <th>VIP</th>\n",
       "      <th>RoomService</th>\n",
       "      <th>FoodCourt</th>\n",
       "      <th>ShoppingMall</th>\n",
       "      <th>Spa</th>\n",
       "      <th>VRDeck</th>\n",
       "    </tr>\n",
       "    <tr>\n",
       "      <th>PassengerId</th>\n",
       "      <th></th>\n",
       "      <th></th>\n",
       "      <th></th>\n",
       "      <th></th>\n",
       "      <th></th>\n",
       "      <th></th>\n",
       "      <th></th>\n",
       "      <th></th>\n",
       "      <th></th>\n",
       "      <th></th>\n",
       "      <th></th>\n",
       "    </tr>\n",
       "  </thead>\n",
       "  <tbody>\n",
       "    <tr>\n",
       "      <th>0001_01</th>\n",
       "      <td>1</td>\n",
       "      <td>0</td>\n",
       "      <td>149</td>\n",
       "      <td>2</td>\n",
       "      <td>40</td>\n",
       "      <td>0</td>\n",
       "      <td>0</td>\n",
       "      <td>0</td>\n",
       "      <td>0</td>\n",
       "      <td>0</td>\n",
       "      <td>0</td>\n",
       "    </tr>\n",
       "    <tr>\n",
       "      <th>0002_01</th>\n",
       "      <td>0</td>\n",
       "      <td>0</td>\n",
       "      <td>2184</td>\n",
       "      <td>2</td>\n",
       "      <td>24</td>\n",
       "      <td>0</td>\n",
       "      <td>109</td>\n",
       "      <td>9</td>\n",
       "      <td>25</td>\n",
       "      <td>457</td>\n",
       "      <td>44</td>\n",
       "    </tr>\n",
       "    <tr>\n",
       "      <th>0003_01</th>\n",
       "      <td>1</td>\n",
       "      <td>0</td>\n",
       "      <td>1</td>\n",
       "      <td>2</td>\n",
       "      <td>59</td>\n",
       "      <td>1</td>\n",
       "      <td>43</td>\n",
       "      <td>1207</td>\n",
       "      <td>0</td>\n",
       "      <td>1274</td>\n",
       "      <td>49</td>\n",
       "    </tr>\n",
       "    <tr>\n",
       "      <th>0003_02</th>\n",
       "      <td>1</td>\n",
       "      <td>0</td>\n",
       "      <td>1</td>\n",
       "      <td>2</td>\n",
       "      <td>34</td>\n",
       "      <td>0</td>\n",
       "      <td>0</td>\n",
       "      <td>807</td>\n",
       "      <td>333</td>\n",
       "      <td>1133</td>\n",
       "      <td>187</td>\n",
       "    </tr>\n",
       "    <tr>\n",
       "      <th>0004_01</th>\n",
       "      <td>0</td>\n",
       "      <td>0</td>\n",
       "      <td>2186</td>\n",
       "      <td>2</td>\n",
       "      <td>16</td>\n",
       "      <td>0</td>\n",
       "      <td>278</td>\n",
       "      <td>69</td>\n",
       "      <td>149</td>\n",
       "      <td>471</td>\n",
       "      <td>2</td>\n",
       "    </tr>\n",
       "  </tbody>\n",
       "</table>\n",
       "</div>"
      ],
      "text/plain": [
       "             HomePlanet  CryoSleep  Cabin  Destination  Age  VIP  RoomService  \\\n",
       "PassengerId                                                                     \n",
       "0001_01               1          0    149            2   40    0            0   \n",
       "0002_01               0          0   2184            2   24    0          109   \n",
       "0003_01               1          0      1            2   59    1           43   \n",
       "0003_02               1          0      1            2   34    0            0   \n",
       "0004_01               0          0   2186            2   16    0          278   \n",
       "\n",
       "             FoodCourt  ShoppingMall   Spa  VRDeck  \n",
       "PassengerId                                         \n",
       "0001_01              0             0     0       0  \n",
       "0002_01              9            25   457      44  \n",
       "0003_01           1207             0  1274      49  \n",
       "0003_02            807           333  1133     187  \n",
       "0004_01             69           149   471       2  "
      ]
     },
     "execution_count": 32,
     "metadata": {},
     "output_type": "execute_result"
    }
   ],
   "source": [
    "X_train.head()"
   ]
  },
  {
   "cell_type": "code",
   "execution_count": 33,
   "id": "16ca8846",
   "metadata": {},
   "outputs": [
    {
     "data": {
      "text/html": [
       "<div>\n",
       "<style scoped>\n",
       "    .dataframe tbody tr th:only-of-type {\n",
       "        vertical-align: middle;\n",
       "    }\n",
       "\n",
       "    .dataframe tbody tr th {\n",
       "        vertical-align: top;\n",
       "    }\n",
       "\n",
       "    .dataframe thead th {\n",
       "        text-align: right;\n",
       "    }\n",
       "</style>\n",
       "<table border=\"1\" class=\"dataframe\">\n",
       "  <thead>\n",
       "    <tr style=\"text-align: right;\">\n",
       "      <th></th>\n",
       "      <th>HomePlanet</th>\n",
       "      <th>CryoSleep</th>\n",
       "      <th>Cabin</th>\n",
       "      <th>Destination</th>\n",
       "      <th>Age</th>\n",
       "      <th>VIP</th>\n",
       "      <th>RoomService</th>\n",
       "      <th>FoodCourt</th>\n",
       "      <th>ShoppingMall</th>\n",
       "      <th>Spa</th>\n",
       "      <th>VRDeck</th>\n",
       "    </tr>\n",
       "    <tr>\n",
       "      <th>PassengerId</th>\n",
       "      <th></th>\n",
       "      <th></th>\n",
       "      <th></th>\n",
       "      <th></th>\n",
       "      <th></th>\n",
       "      <th></th>\n",
       "      <th></th>\n",
       "      <th></th>\n",
       "      <th></th>\n",
       "      <th></th>\n",
       "      <th></th>\n",
       "    </tr>\n",
       "  </thead>\n",
       "  <tbody>\n",
       "    <tr>\n",
       "      <th>0013_01</th>\n",
       "      <td>0</td>\n",
       "      <td>1</td>\n",
       "      <td>2784</td>\n",
       "      <td>2</td>\n",
       "      <td>27</td>\n",
       "      <td>0</td>\n",
       "      <td>0</td>\n",
       "      <td>0</td>\n",
       "      <td>0</td>\n",
       "      <td>0</td>\n",
       "      <td>0</td>\n",
       "    </tr>\n",
       "    <tr>\n",
       "      <th>0018_01</th>\n",
       "      <td>0</td>\n",
       "      <td>0</td>\n",
       "      <td>1867</td>\n",
       "      <td>2</td>\n",
       "      <td>19</td>\n",
       "      <td>0</td>\n",
       "      <td>0</td>\n",
       "      <td>9</td>\n",
       "      <td>0</td>\n",
       "      <td>725</td>\n",
       "      <td>0</td>\n",
       "    </tr>\n",
       "    <tr>\n",
       "      <th>0019_01</th>\n",
       "      <td>1</td>\n",
       "      <td>1</td>\n",
       "      <td>257</td>\n",
       "      <td>0</td>\n",
       "      <td>32</td>\n",
       "      <td>0</td>\n",
       "      <td>0</td>\n",
       "      <td>0</td>\n",
       "      <td>0</td>\n",
       "      <td>0</td>\n",
       "      <td>0</td>\n",
       "    </tr>\n",
       "    <tr>\n",
       "      <th>0021_01</th>\n",
       "      <td>1</td>\n",
       "      <td>0</td>\n",
       "      <td>259</td>\n",
       "      <td>2</td>\n",
       "      <td>39</td>\n",
       "      <td>0</td>\n",
       "      <td>0</td>\n",
       "      <td>844</td>\n",
       "      <td>0</td>\n",
       "      <td>155</td>\n",
       "      <td>360</td>\n",
       "    </tr>\n",
       "    <tr>\n",
       "      <th>0023_01</th>\n",
       "      <td>0</td>\n",
       "      <td>0</td>\n",
       "      <td>1940</td>\n",
       "      <td>2</td>\n",
       "      <td>20</td>\n",
       "      <td>0</td>\n",
       "      <td>10</td>\n",
       "      <td>0</td>\n",
       "      <td>367</td>\n",
       "      <td>0</td>\n",
       "      <td>0</td>\n",
       "    </tr>\n",
       "  </tbody>\n",
       "</table>\n",
       "</div>"
      ],
      "text/plain": [
       "             HomePlanet  CryoSleep  Cabin  Destination  Age  VIP  RoomService  \\\n",
       "PassengerId                                                                     \n",
       "0013_01               0          1   2784            2   27    0            0   \n",
       "0018_01               0          0   1867            2   19    0            0   \n",
       "0019_01               1          1    257            0   32    0            0   \n",
       "0021_01               1          0    259            2   39    0            0   \n",
       "0023_01               0          0   1940            2   20    0           10   \n",
       "\n",
       "             FoodCourt  ShoppingMall  Spa  VRDeck  \n",
       "PassengerId                                        \n",
       "0013_01              0             0    0       0  \n",
       "0018_01              9             0  725       0  \n",
       "0019_01              0             0    0       0  \n",
       "0021_01            844             0  155     360  \n",
       "0023_01              0           367    0       0  "
      ]
     },
     "execution_count": 33,
     "metadata": {},
     "output_type": "execute_result"
    }
   ],
   "source": [
    "X_test.head()"
   ]
  },
  {
   "cell_type": "markdown",
   "id": "6eebc0a3",
   "metadata": {},
   "source": [
    "# Now our data is ready now we have to build a model\n",
    "Here we will use the random forest "
   ]
  },
  {
   "cell_type": "code",
   "execution_count": 34,
   "id": "a33e7cfd",
   "metadata": {},
   "outputs": [],
   "source": [
    "from sklearn.model_selection import train_test_split\n",
    "train_X,val_X,train_y,val_y=train_test_split(X_train,y,random_state=1)"
   ]
  },
  {
   "cell_type": "code",
   "execution_count": 56,
   "id": "0b3bf25f",
   "metadata": {},
   "outputs": [],
   "source": [
    "from sklearn.ensemble import RandomForestClassifier\n",
    "from sklearn.tree import DecisionTreeClassifier\n",
    "from sklearn.metrics import mean_absolute_error"
   ]
  },
  {
   "cell_type": "code",
   "execution_count": 55,
   "id": "125fa8ad",
   "metadata": {},
   "outputs": [
    {
     "name": "stdout",
     "output_type": "stream",
     "text": [
      "The value of 1 :0.21481140754369826\n",
      "The value of 2 :0.20745170193192272\n",
      "The value of 3 :0.20515179392824287\n",
      "The value of 4 :0.20331186752529898\n",
      "The value of 5 :0.20423183072677092\n",
      "The value of 6 :0.20285188592456302\n",
      "The value of 7 :0.20377184912603497\n"
     ]
    }
   ],
   "source": [
    "a=[]\n",
    "for i in range(1,8):\n",
    "    model=RandomForestClassifier(n_estimators=i*50,random_state=1)\n",
    "    model.fit(train_X,train_y)\n",
    "    val_pre=model.predict(val_X)\n",
    "    \n",
    "    a.append(mean_absolute_error(val_y,val_pre))\n",
    "    print(f\"The value of {i} :{mean_absolute_error(val_y,val_pre)}\")"
   ]
  },
  {
   "cell_type": "code",
   "execution_count": 65,
   "id": "eafcbd63",
   "metadata": {},
   "outputs": [
    {
     "name": "stdout",
     "output_type": "stream",
     "text": [
      "The value of 1 :0.20377184912603497\n",
      "The value of 2 :0.20377184912603497\n",
      "The value of 3 :0.20377184912603497\n",
      "The value of 4 :0.20377184912603497\n",
      "The value of 5 :0.20377184912603497\n",
      "The value of 6 :0.20377184912603497\n",
      "The value of 7 :0.20377184912603497\n"
     ]
    }
   ],
   "source": [
    "a1=[]\n",
    "for i in range(1,8):\n",
    "    model2=DecisionTreeClassifier(max_leaf_nodes=i*50,random_state=1)\n",
    "    model2.fit(train_X,train_y)\n",
    "    val_pre2=model.predict(val_X)\n",
    "    \n",
    "    a1.append(mean_absolute_error(val_y,val_pre2))\n",
    "    print(f\"The value of {i} :{mean_absolute_error(val_y,val_pre2)}\")"
   ]
  },
  {
   "cell_type": "code",
   "execution_count": 73,
   "id": "8b7cfda4",
   "metadata": {},
   "outputs": [
    {
     "name": "stdout",
     "output_type": "stream",
     "text": [
      "[0.20285188592456302, 0.20331186752529898, 0.20377184912603497, 0.20423183072677092, 0.20515179392824287, 0.20745170193192272, 0.21481140754369826]\n"
     ]
    }
   ],
   "source": [
    "a.sort()\n",
    "print(a)"
   ]
  },
  {
   "cell_type": "code",
   "execution_count": 74,
   "id": "8f559774",
   "metadata": {},
   "outputs": [
    {
     "name": "stdout",
     "output_type": "stream",
     "text": [
      "[0.20377184912603497, 0.20377184912603497, 0.20377184912603497, 0.20377184912603497, 0.20377184912603497, 0.20377184912603497, 0.20377184912603497]\n"
     ]
    }
   ],
   "source": [
    "a1.sort()\n",
    "print(a1)"
   ]
  },
  {
   "cell_type": "code",
   "execution_count": 76,
   "id": "f4c65e0e",
   "metadata": {},
   "outputs": [
    {
     "name": "stdout",
     "output_type": "stream",
     "text": [
      "True\n"
     ]
    }
   ],
   "source": [
    "print(a[0]<a1[0])"
   ]
  },
  {
   "cell_type": "code",
   "execution_count": 77,
   "id": "c2436369",
   "metadata": {},
   "outputs": [],
   "source": [
    "Best_model=RandomForestClassifier(n_estimators=6*50,random_state=1)"
   ]
  },
  {
   "cell_type": "code",
   "execution_count": 78,
   "id": "d55b0da5",
   "metadata": {},
   "outputs": [
    {
     "data": {
      "text/html": [
       "<style>#sk-container-id-2 {color: black;background-color: white;}#sk-container-id-2 pre{padding: 0;}#sk-container-id-2 div.sk-toggleable {background-color: white;}#sk-container-id-2 label.sk-toggleable__label {cursor: pointer;display: block;width: 100%;margin-bottom: 0;padding: 0.3em;box-sizing: border-box;text-align: center;}#sk-container-id-2 label.sk-toggleable__label-arrow:before {content: \"▸\";float: left;margin-right: 0.25em;color: #696969;}#sk-container-id-2 label.sk-toggleable__label-arrow:hover:before {color: black;}#sk-container-id-2 div.sk-estimator:hover label.sk-toggleable__label-arrow:before {color: black;}#sk-container-id-2 div.sk-toggleable__content {max-height: 0;max-width: 0;overflow: hidden;text-align: left;background-color: #f0f8ff;}#sk-container-id-2 div.sk-toggleable__content pre {margin: 0.2em;color: black;border-radius: 0.25em;background-color: #f0f8ff;}#sk-container-id-2 input.sk-toggleable__control:checked~div.sk-toggleable__content {max-height: 200px;max-width: 100%;overflow: auto;}#sk-container-id-2 input.sk-toggleable__control:checked~label.sk-toggleable__label-arrow:before {content: \"▾\";}#sk-container-id-2 div.sk-estimator input.sk-toggleable__control:checked~label.sk-toggleable__label {background-color: #d4ebff;}#sk-container-id-2 div.sk-label input.sk-toggleable__control:checked~label.sk-toggleable__label {background-color: #d4ebff;}#sk-container-id-2 input.sk-hidden--visually {border: 0;clip: rect(1px 1px 1px 1px);clip: rect(1px, 1px, 1px, 1px);height: 1px;margin: -1px;overflow: hidden;padding: 0;position: absolute;width: 1px;}#sk-container-id-2 div.sk-estimator {font-family: monospace;background-color: #f0f8ff;border: 1px dotted black;border-radius: 0.25em;box-sizing: border-box;margin-bottom: 0.5em;}#sk-container-id-2 div.sk-estimator:hover {background-color: #d4ebff;}#sk-container-id-2 div.sk-parallel-item::after {content: \"\";width: 100%;border-bottom: 1px solid gray;flex-grow: 1;}#sk-container-id-2 div.sk-label:hover label.sk-toggleable__label {background-color: #d4ebff;}#sk-container-id-2 div.sk-serial::before {content: \"\";position: absolute;border-left: 1px solid gray;box-sizing: border-box;top: 0;bottom: 0;left: 50%;z-index: 0;}#sk-container-id-2 div.sk-serial {display: flex;flex-direction: column;align-items: center;background-color: white;padding-right: 0.2em;padding-left: 0.2em;position: relative;}#sk-container-id-2 div.sk-item {position: relative;z-index: 1;}#sk-container-id-2 div.sk-parallel {display: flex;align-items: stretch;justify-content: center;background-color: white;position: relative;}#sk-container-id-2 div.sk-item::before, #sk-container-id-2 div.sk-parallel-item::before {content: \"\";position: absolute;border-left: 1px solid gray;box-sizing: border-box;top: 0;bottom: 0;left: 50%;z-index: -1;}#sk-container-id-2 div.sk-parallel-item {display: flex;flex-direction: column;z-index: 1;position: relative;background-color: white;}#sk-container-id-2 div.sk-parallel-item:first-child::after {align-self: flex-end;width: 50%;}#sk-container-id-2 div.sk-parallel-item:last-child::after {align-self: flex-start;width: 50%;}#sk-container-id-2 div.sk-parallel-item:only-child::after {width: 0;}#sk-container-id-2 div.sk-dashed-wrapped {border: 1px dashed gray;margin: 0 0.4em 0.5em 0.4em;box-sizing: border-box;padding-bottom: 0.4em;background-color: white;}#sk-container-id-2 div.sk-label label {font-family: monospace;font-weight: bold;display: inline-block;line-height: 1.2em;}#sk-container-id-2 div.sk-label-container {text-align: center;}#sk-container-id-2 div.sk-container {/* jupyter's `normalize.less` sets `[hidden] { display: none; }` but bootstrap.min.css set `[hidden] { display: none !important; }` so we also need the `!important` here to be able to override the default hidden behavior on the sphinx rendered scikit-learn.org. See: https://github.com/scikit-learn/scikit-learn/issues/21755 */display: inline-block !important;position: relative;}#sk-container-id-2 div.sk-text-repr-fallback {display: none;}</style><div id=\"sk-container-id-2\" class=\"sk-top-container\"><div class=\"sk-text-repr-fallback\"><pre>RandomForestClassifier(n_estimators=300, random_state=1)</pre><b>In a Jupyter environment, please rerun this cell to show the HTML representation or trust the notebook. <br />On GitHub, the HTML representation is unable to render, please try loading this page with nbviewer.org.</b></div><div class=\"sk-container\" hidden><div class=\"sk-item\"><div class=\"sk-estimator sk-toggleable\"><input class=\"sk-toggleable__control sk-hidden--visually\" id=\"sk-estimator-id-2\" type=\"checkbox\" checked><label for=\"sk-estimator-id-2\" class=\"sk-toggleable__label sk-toggleable__label-arrow\">RandomForestClassifier</label><div class=\"sk-toggleable__content\"><pre>RandomForestClassifier(n_estimators=300, random_state=1)</pre></div></div></div></div></div>"
      ],
      "text/plain": [
       "RandomForestClassifier(n_estimators=300, random_state=1)"
      ]
     },
     "execution_count": 78,
     "metadata": {},
     "output_type": "execute_result"
    }
   ],
   "source": [
    "Best_model.fit(X_train,y)"
   ]
  },
  {
   "cell_type": "code",
   "execution_count": 95,
   "id": "4b5decf8",
   "metadata": {},
   "outputs": [],
   "source": [
    "output=Best_model.predict(X_test)"
   ]
  },
  {
   "cell_type": "code",
   "execution_count": 96,
   "id": "2821b6a2",
   "metadata": {},
   "outputs": [],
   "source": [
    "output=pd.DataFrame({\"PassengerId\":X_test.index,\n",
    "                   \"Transported\":output})"
   ]
  },
  {
   "cell_type": "code",
   "execution_count": null,
   "id": "0462ad3c",
   "metadata": {},
   "outputs": [],
   "source": []
  },
  {
   "cell_type": "code",
   "execution_count": 98,
   "id": "4c279cd3",
   "metadata": {},
   "outputs": [],
   "source": [
    "output[\"Transported\"]=output[\"Transported\"].astype(\"bool\")"
   ]
  },
  {
   "cell_type": "code",
   "execution_count": 99,
   "id": "3c862b6c",
   "metadata": {},
   "outputs": [],
   "source": [
    "output.to_csv(\"Submission.csv\",index=False)"
   ]
  },
  {
   "cell_type": "code",
   "execution_count": null,
   "id": "6cc8793d",
   "metadata": {},
   "outputs": [],
   "source": []
  }
 ],
 "metadata": {
  "kernelspec": {
   "display_name": "Python 3 (ipykernel)",
   "language": "python",
   "name": "python3"
  },
  "language_info": {
   "codemirror_mode": {
    "name": "ipython",
    "version": 3
   },
   "file_extension": ".py",
   "mimetype": "text/x-python",
   "name": "python",
   "nbconvert_exporter": "python",
   "pygments_lexer": "ipython3",
   "version": "3.10.4"
  }
 },
 "nbformat": 4,
 "nbformat_minor": 5
}
